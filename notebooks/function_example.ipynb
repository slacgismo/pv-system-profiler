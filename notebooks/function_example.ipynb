{
 "cells": [
  {
   "cell_type": "code",
   "execution_count": 1,
   "metadata": {},
   "outputs": [],
   "source": [
    "%load_ext autoreload\n",
    "%autoreload 2"
   ]
  },
  {
   "cell_type": "markdown",
   "metadata": {},
   "source": [
    "# Example of a pvsystemprofiler function\n",
    "\n",
    "\n",
    "## 8/10/2021"
   ]
  },
  {
   "cell_type": "markdown",
   "metadata": {},
   "source": [
    "### Notebook setup and library imports"
   ]
  },
  {
   "cell_type": "code",
   "execution_count": 2,
   "metadata": {},
   "outputs": [],
   "source": [
    "import sys\n",
    "import numpy as np\n",
    "import pandas as pd\n",
    "import matplotlib.pyplot as plt\n",
    "import seaborn as sns\n",
    "# PVInsight Code Imports\n",
    "from solardatatools import DataHandler\n",
    "from solardatatools.dataio import get_pvdaq_data\n",
    "sys.path.append('..')\n",
    "sys.path.append('~/github/pv-system-profiler')\n",
    "from pvsystemprofiler.estimator import ConfigurationEstimator\n",
    "from pvsystemprofiler.longitude_study import LongitudeStudy"
   ]
  },
  {
   "cell_type": "markdown",
   "metadata": {},
   "source": [
    "### Load data table from external source\n",
    "\n",
    "For today's example, we're loading data from NREL's PVDAQ API, which is a publically available PV generatation data set. "
   ]
  },
  {
   "cell_type": "code",
   "execution_count": 3,
   "metadata": {},
   "outputs": [
    {
     "name": "stdout",
     "output_type": "stream",
     "text": [
      "CAUTION: Multiple scan rates detected!=======================] 100.0% ...queries complete in 24.8 seconds       \n",
      "Scan rates (in seconds): [300, 280]\n",
      "0 transitions detected.\n",
      "Suggest splitting data set between:\n",
      "\n",
      "\n"
     ]
    }
   ],
   "source": [
    "data_frame = get_pvdaq_data(sysid=1199, year=[2015, 2016, 2017], api_key='DEMO_KEY')"
   ]
  },
  {
   "cell_type": "code",
   "execution_count": 4,
   "metadata": {},
   "outputs": [
    {
     "data": {
      "text/html": [
       "<div>\n",
       "<style scoped>\n",
       "    .dataframe tbody tr th:only-of-type {\n",
       "        vertical-align: middle;\n",
       "    }\n",
       "\n",
       "    .dataframe tbody tr th {\n",
       "        vertical-align: top;\n",
       "    }\n",
       "\n",
       "    .dataframe thead th {\n",
       "        text-align: right;\n",
       "    }\n",
       "</style>\n",
       "<table border=\"1\" class=\"dataframe\">\n",
       "  <thead>\n",
       "    <tr style=\"text-align: right;\">\n",
       "      <th></th>\n",
       "      <th>SiteID</th>\n",
       "      <th>ac_power</th>\n",
       "      <th>dc_power</th>\n",
       "      <th>inv1_ac_power</th>\n",
       "      <th>inv1_dc_current</th>\n",
       "      <th>inv1_dc_power</th>\n",
       "      <th>inv1_dc_voltage</th>\n",
       "      <th>inv1_temp</th>\n",
       "      <th>inv2_ac_power</th>\n",
       "      <th>inv2_dc_current</th>\n",
       "      <th>...</th>\n",
       "      <th>inv6_ac_power</th>\n",
       "      <th>inv6_dc_current</th>\n",
       "      <th>inv6_dc_power</th>\n",
       "      <th>inv6_dc_voltage</th>\n",
       "      <th>inv6_temp</th>\n",
       "      <th>inv7_ac_power</th>\n",
       "      <th>inv7_dc_current</th>\n",
       "      <th>inv7_dc_power</th>\n",
       "      <th>inv7_dc_voltage</th>\n",
       "      <th>inv7_temp</th>\n",
       "    </tr>\n",
       "  </thead>\n",
       "  <tbody>\n",
       "    <tr>\n",
       "      <th>2015-01-01 00:00:00</th>\n",
       "      <td>NaN</td>\n",
       "      <td>NaN</td>\n",
       "      <td>NaN</td>\n",
       "      <td>NaN</td>\n",
       "      <td>NaN</td>\n",
       "      <td>NaN</td>\n",
       "      <td>NaN</td>\n",
       "      <td>NaN</td>\n",
       "      <td>NaN</td>\n",
       "      <td>NaN</td>\n",
       "      <td>...</td>\n",
       "      <td>NaN</td>\n",
       "      <td>NaN</td>\n",
       "      <td>NaN</td>\n",
       "      <td>NaN</td>\n",
       "      <td>NaN</td>\n",
       "      <td>NaN</td>\n",
       "      <td>NaN</td>\n",
       "      <td>NaN</td>\n",
       "      <td>NaN</td>\n",
       "      <td>NaN</td>\n",
       "    </tr>\n",
       "    <tr>\n",
       "      <th>2015-01-01 00:05:00</th>\n",
       "      <td>NaN</td>\n",
       "      <td>NaN</td>\n",
       "      <td>NaN</td>\n",
       "      <td>NaN</td>\n",
       "      <td>NaN</td>\n",
       "      <td>NaN</td>\n",
       "      <td>NaN</td>\n",
       "      <td>NaN</td>\n",
       "      <td>NaN</td>\n",
       "      <td>NaN</td>\n",
       "      <td>...</td>\n",
       "      <td>NaN</td>\n",
       "      <td>NaN</td>\n",
       "      <td>NaN</td>\n",
       "      <td>NaN</td>\n",
       "      <td>NaN</td>\n",
       "      <td>NaN</td>\n",
       "      <td>NaN</td>\n",
       "      <td>NaN</td>\n",
       "      <td>NaN</td>\n",
       "      <td>NaN</td>\n",
       "    </tr>\n",
       "    <tr>\n",
       "      <th>2015-01-01 00:10:00</th>\n",
       "      <td>NaN</td>\n",
       "      <td>NaN</td>\n",
       "      <td>NaN</td>\n",
       "      <td>NaN</td>\n",
       "      <td>NaN</td>\n",
       "      <td>NaN</td>\n",
       "      <td>NaN</td>\n",
       "      <td>NaN</td>\n",
       "      <td>NaN</td>\n",
       "      <td>NaN</td>\n",
       "      <td>...</td>\n",
       "      <td>NaN</td>\n",
       "      <td>NaN</td>\n",
       "      <td>NaN</td>\n",
       "      <td>NaN</td>\n",
       "      <td>NaN</td>\n",
       "      <td>NaN</td>\n",
       "      <td>NaN</td>\n",
       "      <td>NaN</td>\n",
       "      <td>NaN</td>\n",
       "      <td>NaN</td>\n",
       "    </tr>\n",
       "    <tr>\n",
       "      <th>2015-01-01 00:15:00</th>\n",
       "      <td>NaN</td>\n",
       "      <td>NaN</td>\n",
       "      <td>NaN</td>\n",
       "      <td>NaN</td>\n",
       "      <td>NaN</td>\n",
       "      <td>NaN</td>\n",
       "      <td>NaN</td>\n",
       "      <td>NaN</td>\n",
       "      <td>NaN</td>\n",
       "      <td>NaN</td>\n",
       "      <td>...</td>\n",
       "      <td>NaN</td>\n",
       "      <td>NaN</td>\n",
       "      <td>NaN</td>\n",
       "      <td>NaN</td>\n",
       "      <td>NaN</td>\n",
       "      <td>NaN</td>\n",
       "      <td>NaN</td>\n",
       "      <td>NaN</td>\n",
       "      <td>NaN</td>\n",
       "      <td>NaN</td>\n",
       "    </tr>\n",
       "    <tr>\n",
       "      <th>2015-01-01 00:20:00</th>\n",
       "      <td>NaN</td>\n",
       "      <td>NaN</td>\n",
       "      <td>NaN</td>\n",
       "      <td>NaN</td>\n",
       "      <td>NaN</td>\n",
       "      <td>NaN</td>\n",
       "      <td>NaN</td>\n",
       "      <td>NaN</td>\n",
       "      <td>NaN</td>\n",
       "      <td>NaN</td>\n",
       "      <td>...</td>\n",
       "      <td>NaN</td>\n",
       "      <td>NaN</td>\n",
       "      <td>NaN</td>\n",
       "      <td>NaN</td>\n",
       "      <td>NaN</td>\n",
       "      <td>NaN</td>\n",
       "      <td>NaN</td>\n",
       "      <td>NaN</td>\n",
       "      <td>NaN</td>\n",
       "      <td>NaN</td>\n",
       "    </tr>\n",
       "  </tbody>\n",
       "</table>\n",
       "<p>5 rows × 38 columns</p>\n",
       "</div>"
      ],
      "text/plain": [
       "                     SiteID  ac_power  dc_power  inv1_ac_power  \\\n",
       "2015-01-01 00:00:00     NaN       NaN       NaN            NaN   \n",
       "2015-01-01 00:05:00     NaN       NaN       NaN            NaN   \n",
       "2015-01-01 00:10:00     NaN       NaN       NaN            NaN   \n",
       "2015-01-01 00:15:00     NaN       NaN       NaN            NaN   \n",
       "2015-01-01 00:20:00     NaN       NaN       NaN            NaN   \n",
       "\n",
       "                     inv1_dc_current  inv1_dc_power  inv1_dc_voltage  \\\n",
       "2015-01-01 00:00:00              NaN            NaN              NaN   \n",
       "2015-01-01 00:05:00              NaN            NaN              NaN   \n",
       "2015-01-01 00:10:00              NaN            NaN              NaN   \n",
       "2015-01-01 00:15:00              NaN            NaN              NaN   \n",
       "2015-01-01 00:20:00              NaN            NaN              NaN   \n",
       "\n",
       "                     inv1_temp  inv2_ac_power  inv2_dc_current  ...  \\\n",
       "2015-01-01 00:00:00        NaN            NaN              NaN  ...   \n",
       "2015-01-01 00:05:00        NaN            NaN              NaN  ...   \n",
       "2015-01-01 00:10:00        NaN            NaN              NaN  ...   \n",
       "2015-01-01 00:15:00        NaN            NaN              NaN  ...   \n",
       "2015-01-01 00:20:00        NaN            NaN              NaN  ...   \n",
       "\n",
       "                     inv6_ac_power  inv6_dc_current  inv6_dc_power  \\\n",
       "2015-01-01 00:00:00            NaN              NaN            NaN   \n",
       "2015-01-01 00:05:00            NaN              NaN            NaN   \n",
       "2015-01-01 00:10:00            NaN              NaN            NaN   \n",
       "2015-01-01 00:15:00            NaN              NaN            NaN   \n",
       "2015-01-01 00:20:00            NaN              NaN            NaN   \n",
       "\n",
       "                     inv6_dc_voltage  inv6_temp  inv7_ac_power  \\\n",
       "2015-01-01 00:00:00              NaN        NaN            NaN   \n",
       "2015-01-01 00:05:00              NaN        NaN            NaN   \n",
       "2015-01-01 00:10:00              NaN        NaN            NaN   \n",
       "2015-01-01 00:15:00              NaN        NaN            NaN   \n",
       "2015-01-01 00:20:00              NaN        NaN            NaN   \n",
       "\n",
       "                     inv7_dc_current  inv7_dc_power  inv7_dc_voltage  \\\n",
       "2015-01-01 00:00:00              NaN            NaN              NaN   \n",
       "2015-01-01 00:05:00              NaN            NaN              NaN   \n",
       "2015-01-01 00:10:00              NaN            NaN              NaN   \n",
       "2015-01-01 00:15:00              NaN            NaN              NaN   \n",
       "2015-01-01 00:20:00              NaN            NaN              NaN   \n",
       "\n",
       "                     inv7_temp  \n",
       "2015-01-01 00:00:00        NaN  \n",
       "2015-01-01 00:05:00        NaN  \n",
       "2015-01-01 00:10:00        NaN  \n",
       "2015-01-01 00:15:00        NaN  \n",
       "2015-01-01 00:20:00        NaN  \n",
       "\n",
       "[5 rows x 38 columns]"
      ]
     },
     "execution_count": 4,
     "metadata": {},
     "output_type": "execute_result"
    }
   ],
   "source": [
    "data_frame.head()"
   ]
  },
  {
   "cell_type": "markdown",
   "metadata": {},
   "source": [
    "### Running the `DataHandler` processing pipeline"
   ]
  },
  {
   "cell_type": "code",
   "execution_count": 5,
   "metadata": {},
   "outputs": [],
   "source": [
    "dh = DataHandler(data_frame)"
   ]
  },
  {
   "cell_type": "code",
   "execution_count": 6,
   "metadata": {},
   "outputs": [
    {
     "name": "stdout",
     "output_type": "stream",
     "text": [
      "total time: 26.34 seconds\n",
      "--------------------------------\n",
      "Breakdown\n",
      "--------------------------------\n",
      "Preprocessing              11.25s\n",
      "Cleaning                   12.71s\n",
      "Filtering/Summarizing      2.38s\n",
      "    Data quality           0.44s\n",
      "    Clear day detect       0.30s\n",
      "    Clipping detect        0.32s\n",
      "    Capacity change detect 1.33s\n",
      "\n"
     ]
    }
   ],
   "source": [
    "dh.run_pipeline(power_col='ac_power')"
   ]
  },
  {
   "cell_type": "markdown",
   "metadata": {},
   "source": [
    "### Site longitude and latitude downloaded from https://maps.nrel.gov/pvdaq/ PVDAQ Contributed Sites"
   ]
  },
  {
   "cell_type": "code",
   "execution_count": 7,
   "metadata": {},
   "outputs": [],
   "source": [
    "latitude = 39.4856\n",
    "longitude = -76.6636\n",
    "tilt = 180\n",
    "azimuth = 20\n",
    "gmt_offset = -5"
   ]
  },
  {
   "cell_type": "markdown",
   "metadata": {},
   "source": [
    "### Import sunrise_sunset method to calculate the daily solar noon"
   ]
  },
  {
   "cell_type": "code",
   "execution_count": 8,
   "metadata": {},
   "outputs": [],
   "source": [
    "from pvsystemprofiler.algorithms.optimized_sunrise_sunset import get_optimized_sunrise_sunset"
   ]
  },
  {
   "cell_type": "markdown",
   "metadata": {},
   "source": [
    "### Prepare input values to estimate the daily sunrise and sunset hour"
   ]
  },
  {
   "cell_type": "markdown",
   "metadata": {},
   "source": [
    "### For this function, one of the input values is set to None at one time. It gives the option to calculate sunrise and sunset hours using either the raw data matrix (rdm) or the filled data matrix (fdm)"
   ]
  },
  {
   "cell_type": "code",
   "execution_count": 9,
   "metadata": {},
   "outputs": [],
   "source": [
    "#fdm = None\n",
    "#rdm = dh.raw_data_matrix\n",
    "fdm = dh.filled_data_matrix\n",
    "rdm = None"
   ]
  },
  {
   "cell_type": "code",
   "execution_count": 10,
   "metadata": {},
   "outputs": [],
   "source": [
    "day_of_year = dh.day_index.dayofyear"
   ]
  },
  {
   "cell_type": "code",
   "execution_count": 11,
   "metadata": {},
   "outputs": [],
   "source": [
    "days = dh.daily_flags.no_errors"
   ]
  },
  {
   "cell_type": "markdown",
   "metadata": {},
   "source": [
    "### The method opt_dict returns a dictionary with the daily sunrise and sunset hours and the threshold value"
   ]
  },
  {
   "cell_type": "code",
   "execution_count": 29,
   "metadata": {},
   "outputs": [],
   "source": [
    "opt_dict = get_optimized_sunrise_sunset(fdm, rdm)"
   ]
  },
  {
   "cell_type": "code",
   "execution_count": 30,
   "metadata": {},
   "outputs": [
    {
     "data": {
      "text/plain": [
       "{'est_sr_raw': None,\n",
       " 'est_ss_raw': None,\n",
       " 'meas_sr_raw': None,\n",
       " 'meas_ss_raw': None,\n",
       " 'thres_raw': None,\n",
       " 'est_sr_f': array([6.13399208, 6.13491374, 6.13553589, ..., 6.13096545, 6.13262545,\n",
       "        6.13399208]),\n",
       " 'est_ss_f': array([15.95606159, 15.96324724, 15.97135561, ..., 15.94540545,\n",
       "        15.95026762, 15.95606159]),\n",
       " 'meas_sr_f': array([6.41666667, 6.5       , 6.75      , ..., 6.58333333, 7.66666667,\n",
       "        6.58333333]),\n",
       " 'meas_ss_f': array([15.83333333, 15.75      , 15.25      , ..., 15.75      ,\n",
       "        15.58333333, 15.83333333]),\n",
       " 'thres_f': 1e-05}"
      ]
     },
     "execution_count": 30,
     "metadata": {},
     "output_type": "execute_result"
    }
   ],
   "source": [
    "opt_dict"
   ]
  },
  {
   "cell_type": "markdown",
   "metadata": {},
   "source": [
    "### Estimate solar noon using estimated values in the dictionary"
   ]
  },
  {
   "cell_type": "code",
   "execution_count": 31,
   "metadata": {},
   "outputs": [],
   "source": [
    "sunrise = opt_dict['meas_sr_f']\n",
    "sunset = opt_dict['meas_ss_f']\n",
    "sunrise[np.isnan(sunrise)] = 0\n",
    "sunset[np.isnan(sunset)] = 0"
   ]
  },
  {
   "cell_type": "code",
   "execution_count": 32,
   "metadata": {},
   "outputs": [],
   "source": [
    "solarnoon = np.nanmean([sunrise, sunset], axis=0)"
   ]
  },
  {
   "cell_type": "code",
   "execution_count": 33,
   "metadata": {},
   "outputs": [],
   "source": [
    "from pvsystemprofiler.utilities.equation_of_time import eot_da_rosa, eot_duffie"
   ]
  },
  {
   "cell_type": "markdown",
   "metadata": {},
   "source": [
    "### Equation of time prosposed by Duffie"
   ]
  },
  {
   "cell_type": "code",
   "execution_count": 34,
   "metadata": {},
   "outputs": [],
   "source": [
    "eot_duffie = eot_duffie(day_of_year)"
   ]
  },
  {
   "cell_type": "markdown",
   "metadata": {},
   "source": [
    "### Equation of time prosposed by da Rosa"
   ]
  },
  {
   "cell_type": "code",
   "execution_count": 35,
   "metadata": {},
   "outputs": [],
   "source": [
    "eot_da_rosa = eot_da_rosa(day_of_year)"
   ]
  },
  {
   "cell_type": "markdown",
   "metadata": {},
   "source": [
    "### Fit longitude using previously estimated solarnoon"
   ]
  },
  {
   "cell_type": "code",
   "execution_count": 36,
   "metadata": {},
   "outputs": [],
   "source": [
    "from pvsystemprofiler.algorithms.longitude.fitting import fit_longitude"
   ]
  },
  {
   "cell_type": "code",
   "execution_count": 37,
   "metadata": {},
   "outputs": [
    {
     "data": {
      "text/plain": [
       "-71.96605190107411"
      ]
     },
     "execution_count": 37,
     "metadata": {},
     "output_type": "execute_result"
    }
   ],
   "source": [
    "fit_longitude(eot_duffie, solarnoon, days, gmt_offset, loss='l2')"
   ]
  },
  {
   "cell_type": "markdown",
   "metadata": {},
   "source": [
    "### Fit longitude using parameters internal to the LongitudeStudy class"
   ]
  },
  {
   "cell_type": "code",
   "execution_count": 21,
   "metadata": {},
   "outputs": [],
   "source": [
    "lon_study = LongitudeStudy(data_handler=dh, gmt_offset=gmt_offset, true_value=longitude)"
   ]
  },
  {
   "cell_type": "code",
   "execution_count": 22,
   "metadata": {},
   "outputs": [],
   "source": [
    "lon_study.run(verbose=False, data_matrix='filled', estimator='fit_l2', day_selection_method='all',\n",
    "              eot_calculation='duffie', solar_noon_method='optimized_measurements')"
   ]
  },
  {
   "cell_type": "markdown",
   "metadata": {},
   "source": [
    "### use solarnoon calculated internally"
   ]
  },
  {
   "cell_type": "code",
   "execution_count": 23,
   "metadata": {},
   "outputs": [],
   "source": [
    "solarnoon2 = lon_study.solarnoon"
   ]
  },
  {
   "cell_type": "markdown",
   "metadata": {},
   "source": [
    "### Use days calculated internally"
   ]
  },
  {
   "cell_type": "code",
   "execution_count": 24,
   "metadata": {},
   "outputs": [],
   "source": [
    "day_of_year2 = lon_study.data_handler.day_index.dayofyear"
   ]
  },
  {
   "cell_type": "markdown",
   "metadata": {},
   "source": [
    "### Use internal eout Duffie"
   ]
  },
  {
   "cell_type": "code",
   "execution_count": 25,
   "metadata": {},
   "outputs": [],
   "source": [
    "eot_duffie2 = lon_study.eot_duffie"
   ]
  },
  {
   "cell_type": "code",
   "execution_count": 26,
   "metadata": {},
   "outputs": [],
   "source": [
    "days2 = lon_study.days"
   ]
  },
  {
   "cell_type": "code",
   "execution_count": 27,
   "metadata": {},
   "outputs": [
    {
     "data": {
      "text/plain": [
       "-71.96605190107411"
      ]
     },
     "execution_count": 27,
     "metadata": {},
     "output_type": "execute_result"
    }
   ],
   "source": [
    "fit_longitude(eot_duffie2, solarnoon2, days2, gmt_offset, loss='l2')"
   ]
  },
  {
   "cell_type": "code",
   "execution_count": null,
   "metadata": {},
   "outputs": [],
   "source": []
  }
 ],
 "metadata": {
  "kernelspec": {
   "display_name": "Python 3",
   "language": "python",
   "name": "python3"
  },
  "language_info": {
   "codemirror_mode": {
    "name": "ipython",
    "version": 3
   },
   "file_extension": ".py",
   "mimetype": "text/x-python",
   "name": "python",
   "nbconvert_exporter": "python",
   "pygments_lexer": "ipython3",
   "version": "3.7.6"
  }
 },
 "nbformat": 4,
 "nbformat_minor": 2
}
