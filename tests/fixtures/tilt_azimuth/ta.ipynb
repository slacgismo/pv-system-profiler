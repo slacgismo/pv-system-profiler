{
 "cells": [
  {
   "cell_type": "markdown",
   "id": "71df060f",
   "metadata": {},
   "source": [
    "## Generating fixtures to test the Equation Of Time functions, the Longitude Fitting Functions and the Longitude Calculation Functions"
   ]
  },
  {
   "cell_type": "markdown",
   "id": "60ce3103",
   "metadata": {},
   "source": [
    "### Expected Longitude Output is downloaded directly from https://maps.nrel.gov/pvdaq/ PVDAQ Contributed Sites\n",
    "\n",
    "### Expected longitude = -76.6636"
   ]
  },
  {
   "cell_type": "code",
   "execution_count": 1,
   "id": "valid-complement",
   "metadata": {},
   "outputs": [],
   "source": [
    "%load_ext autoreload\n",
    "%autoreload 2"
   ]
  },
  {
   "cell_type": "code",
   "execution_count": 2,
   "id": "8c0ee1e6",
   "metadata": {},
   "outputs": [],
   "source": [
    "import os\n",
    "import pandas as pd\n",
    "from pathlib import Path\n",
    "import seaborn as sns\n",
    "import numpy as np\n",
    "# PVInsight Code Imports\n",
    "from solardatatools import DataHandler\n",
    "from solardatatools.dataio import get_pvdaq_data\n",
    "path = Path.cwd().parent.parent.parent\n",
    "os.chdir(path)"
   ]
  },
  {
   "cell_type": "markdown",
   "id": "3339ccef",
   "metadata": {},
   "source": [
    "### Load data table from external source\n",
    "\n",
    "#### For today's example, we're loading data from NREL's PVDAQ API, which is a publically available PV generatation data set."
   ]
  },
  {
   "cell_type": "code",
   "execution_count": 3,
   "id": "7a35db8d",
   "metadata": {},
   "outputs": [
    {
     "name": "stdout",
     "output_type": "stream",
     "text": [
      "CAUTION: Multiple scan rates detected!=======================] 100.0% ...queries complete in 23.7 seconds       \n",
      "Scan rates (in seconds): [300, 280]\n",
      "0 transitions detected.\n",
      "Suggest splitting data set between:\n",
      "\n",
      "\n"
     ]
    }
   ],
   "source": [
    "data_frame = get_pvdaq_data(sysid=1199, year=[2015, 2016, 2017], api_key='DEMO_KEY')"
   ]
  },
  {
   "cell_type": "code",
   "execution_count": 4,
   "id": "062f312a",
   "metadata": {},
   "outputs": [],
   "source": [
    "gmt_offset = -5"
   ]
  },
  {
   "cell_type": "markdown",
   "id": "0a4e0ed0",
   "metadata": {},
   "source": [
    "### Running the  DataHandler"
   ]
  },
  {
   "cell_type": "code",
   "execution_count": 5,
   "id": "201dbffa",
   "metadata": {},
   "outputs": [],
   "source": [
    "dh = DataHandler(data_frame[0])\n",
    "dh.fix_dst()"
   ]
  },
  {
   "cell_type": "code",
   "execution_count": 6,
   "id": "708a3385",
   "metadata": {},
   "outputs": [
    {
     "name": "stdout",
     "output_type": "stream",
     "text": [
      "total time: 16.08 seconds\n",
      "--------------------------------\n",
      "Breakdown\n",
      "--------------------------------\n",
      "Preprocessing              5.35s\n",
      "Cleaning                   0.30s\n",
      "Filtering/Summarizing      10.42s\n",
      "    Data quality           0.42s\n",
      "    Clear day detect       0.30s\n",
      "    Clipping detect        8.31s\n",
      "    Capacity change detect 1.39s\n",
      "\n"
     ]
    }
   ],
   "source": [
    "dh.run_pipeline(power_col='ac_power', fix_shifts=False, correct_tz=False)"
   ]
  },
  {
   "cell_type": "code",
   "execution_count": 7,
   "id": "naval-impact",
   "metadata": {},
   "outputs": [],
   "source": [
    "days = dh.daily_flags.no_errors"
   ]
  },
  {
   "cell_type": "code",
   "execution_count": 8,
   "id": "unlikely-vector",
   "metadata": {},
   "outputs": [],
   "source": [
    "day_of_year = dh.day_index.dayofyear"
   ]
  },
  {
   "cell_type": "code",
   "execution_count": 9,
   "id": "wired-boxing",
   "metadata": {},
   "outputs": [],
   "source": [
    "day_range = np.ones(day_of_year.shape, dtype=bool)"
   ]
  },
  {
   "cell_type": "code",
   "execution_count": 10,
   "id": "romantic-reminder",
   "metadata": {},
   "outputs": [],
   "source": [
    "daily_meas = dh.filled_data_matrix.shape[0]"
   ]
  },
  {
   "cell_type": "code",
   "execution_count": 11,
   "id": "integral-editor",
   "metadata": {},
   "outputs": [],
   "source": [
    "daytime_threshold = None"
   ]
  },
  {
   "cell_type": "code",
   "execution_count": 12,
   "id": "animated-import",
   "metadata": {},
   "outputs": [],
   "source": [
    "from pvsystemprofiler.algorithms.performance_model_estimation import find_fit_costheta"
   ]
  },
  {
   "cell_type": "code",
   "execution_count": 13,
   "id": "floral-leader",
   "metadata": {},
   "outputs": [],
   "source": [
    "scale_factor_costheta, costheta_fit = find_fit_costheta(dh.filled_data_matrix, dh.daily_flags.no_errors)"
   ]
  },
  {
   "cell_type": "code",
   "execution_count": 14,
   "id": "focused-mission",
   "metadata": {},
   "outputs": [],
   "source": [
    "from pvsystemprofiler.algorithms.tilt_azimuth.daytime_threshold_quantile import filter_data"
   ]
  },
  {
   "cell_type": "code",
   "execution_count": 15,
   "id": "authentic-cover",
   "metadata": {},
   "outputs": [],
   "source": [
    "from pvsystemprofiler.algorithms.latitude.hours_daylight import calculate_hours_daylight"
   ]
  },
  {
   "cell_type": "code",
   "execution_count": 16,
   "id": "acute-freeware",
   "metadata": {},
   "outputs": [],
   "source": [
    "from solardatatools.algorithms import SunriseSunset"
   ]
  },
  {
   "cell_type": "code",
   "execution_count": 17,
   "id": "ready-jerusalem",
   "metadata": {},
   "outputs": [],
   "source": [
    "ss = SunriseSunset()"
   ]
  },
  {
   "cell_type": "code",
   "execution_count": 18,
   "id": "internal-carpet",
   "metadata": {},
   "outputs": [],
   "source": [
    "ss.run_optimizer(data=dh.filled_data_matrix)"
   ]
  },
  {
   "cell_type": "code",
   "execution_count": 19,
   "id": "answering-essence",
   "metadata": {},
   "outputs": [],
   "source": [
    "hours_daylight = ss.sunset_estimates - ss.sunrise_estimates"
   ]
  },
  {
   "cell_type": "code",
   "execution_count": 20,
   "id": "simplified-external",
   "metadata": {},
   "outputs": [],
   "source": [
    "#hours_daylight = calculate_hours_daylight(dh.filled_data_matrix, threshold=daytime_threshold)"
   ]
  },
  {
   "cell_type": "code",
   "execution_count": 21,
   "id": "starting-posting",
   "metadata": {},
   "outputs": [],
   "source": [
    "boolean_filter = filter_data(dh.filled_data_matrix, daytime_threshold=daytime_threshold, x1=0.9, x2=0.9)"
   ]
  },
  {
   "cell_type": "code",
   "execution_count": 22,
   "id": "major-beast",
   "metadata": {},
   "outputs": [],
   "source": [
    "boolean_filter = boolean_filter * days * day_range"
   ]
  },
  {
   "cell_type": "code",
   "execution_count": 23,
   "id": "cutting-vegetarian",
   "metadata": {},
   "outputs": [],
   "source": [
    "from pvsystemprofiler.utilities.hour_angle_equation import calculate_omega"
   ]
  },
  {
   "cell_type": "code",
   "execution_count": 24,
   "id": "wireless-lotus",
   "metadata": {},
   "outputs": [],
   "source": [
    "latitude = 39.4856\n",
    "longitude = -76.6636\n",
    "tilt = 180\n",
    "azimuth = 20\n",
    "gmt_offset = -5"
   ]
  },
  {
   "cell_type": "code",
   "execution_count": 25,
   "id": "compact-elephant",
   "metadata": {},
   "outputs": [],
   "source": [
    "omega = calculate_omega(dh.data_sampling, dh.num_days, longitude, day_of_year, gmt_offset)"
   ]
  },
  {
   "cell_type": "code",
   "execution_count": 26,
   "id": "protective-cinema",
   "metadata": {},
   "outputs": [],
   "source": [
    "from pvsystemprofiler.utilities.declination_equation import delta_cooper"
   ]
  },
  {
   "cell_type": "code",
   "execution_count": 27,
   "id": "enhanced-nature",
   "metadata": {},
   "outputs": [],
   "source": [
    "delta = delta_cooper(day_of_year, daily_meas)"
   ]
  },
  {
   "cell_type": "code",
   "execution_count": 28,
   "id": "flexible-aberdeen",
   "metadata": {},
   "outputs": [],
   "source": [
    "delta_f = delta[boolean_filter]"
   ]
  },
  {
   "cell_type": "code",
   "execution_count": 29,
   "id": "entitled-story",
   "metadata": {},
   "outputs": [],
   "source": [
    "omega_f = omega[boolean_filter]"
   ]
  },
  {
   "cell_type": "code",
   "execution_count": 30,
   "id": "nominated-marketing",
   "metadata": {},
   "outputs": [],
   "source": [
    "from pvsystemprofiler.algorithms.angle_of_incidence.lambda_functions import select_function"
   ]
  },
  {
   "cell_type": "code",
   "execution_count": 31,
   "id": "timely-manufacturer",
   "metadata": {},
   "outputs": [],
   "source": [
    "func_customized, bounds = select_function(latitude, None, None)"
   ]
  },
  {
   "cell_type": "code",
   "execution_count": 32,
   "id": "irish-hacker",
   "metadata": {},
   "outputs": [],
   "source": [
    "from pvsystemprofiler.algorithms.angle_of_incidence.curve_fitting import run_curve_fit"
   ]
  },
  {
   "cell_type": "code",
   "execution_count": 33,
   "id": "double-easter",
   "metadata": {},
   "outputs": [],
   "source": [
    "estimates = run_curve_fit(func=func_customized, keys=['tilt', 'azimuth'], delta=delta_f, omega=omega_f,\n",
    "                                  costheta=costheta_fit, boolean_filter=boolean_filter, init_values=[30, 16],\n",
    "                                  fit_bounds=bounds)"
   ]
  },
  {
   "cell_type": "code",
   "execution_count": 34,
   "id": "clear-retention",
   "metadata": {},
   "outputs": [
    {
     "data": {
      "text/plain": [
       "array([31.73741817,  1.65643241])"
      ]
     },
     "execution_count": 34,
     "metadata": {},
     "output_type": "execute_result"
    }
   ],
   "source": [
    "estimates"
   ]
  },
  {
   "cell_type": "code",
   "execution_count": 35,
   "id": "young-universe",
   "metadata": {},
   "outputs": [],
   "source": [
    "from pvsystemprofiler.estimator import ConfigurationEstimator"
   ]
  },
  {
   "cell_type": "code",
   "execution_count": 36,
   "id": "wrong-separation",
   "metadata": {},
   "outputs": [],
   "source": [
    "est = ConfigurationEstimator(dh, gmt_offset=-5)"
   ]
  },
  {
   "cell_type": "code",
   "execution_count": 37,
   "id": "built-latvia",
   "metadata": {},
   "outputs": [],
   "source": [
    "est.estimate_orientation(longitude=longitude, latitude=latitude)"
   ]
  },
  {
   "cell_type": "code",
   "execution_count": 38,
   "id": "editorial-messenger",
   "metadata": {},
   "outputs": [
    {
     "data": {
      "text/plain": [
       "31.737661653072788"
      ]
     },
     "execution_count": 38,
     "metadata": {},
     "output_type": "execute_result"
    }
   ],
   "source": [
    "est.tilt"
   ]
  },
  {
   "cell_type": "code",
   "execution_count": 39,
   "id": "suspected-virginia",
   "metadata": {},
   "outputs": [
    {
     "data": {
      "text/plain": [
       "1.6557372212656074"
      ]
     },
     "execution_count": 39,
     "metadata": {},
     "output_type": "execute_result"
    }
   ],
   "source": [
    "est.azimuth"
   ]
  }
 ],
 "metadata": {
  "kernelspec": {
   "display_name": "Python 3",
   "language": "python",
   "name": "python3"
  },
  "language_info": {
   "codemirror_mode": {
    "name": "ipython",
    "version": 3
   },
   "file_extension": ".py",
   "mimetype": "text/x-python",
   "name": "python",
   "nbconvert_exporter": "python",
   "pygments_lexer": "ipython3",
   "version": "3.7.6"
  }
 },
 "nbformat": 4,
 "nbformat_minor": 5
}
