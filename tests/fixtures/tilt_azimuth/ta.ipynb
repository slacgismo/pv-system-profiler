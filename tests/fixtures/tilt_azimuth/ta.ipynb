{
 "cells": [
  {
   "cell_type": "markdown",
   "id": "71df060f",
   "metadata": {},
   "source": [
    "## Generating fixtures to test the Equation Of Time functions, the Longitude Fitting Functions and the Longitude Calculation Functions"
   ]
  },
  {
   "cell_type": "markdown",
   "id": "60ce3103",
   "metadata": {},
   "source": [
    "### Expected Longitude Output is downloaded directly from https://maps.nrel.gov/pvdaq/ PVDAQ Contributed Sites\n",
    "\n",
    "### Expected longitude = -76.6636"
   ]
  },
  {
   "cell_type": "code",
   "execution_count": 1,
   "id": "valid-complement",
   "metadata": {},
   "outputs": [],
   "source": [
    "%load_ext autoreload\n",
    "%autoreload 2"
   ]
  },
  {
   "cell_type": "code",
   "execution_count": 2,
   "id": "8c0ee1e6",
   "metadata": {},
   "outputs": [],
   "source": [
    "import os\n",
    "import pandas as pd\n",
    "from pathlib import Path\n",
    "import seaborn as sns\n",
    "import numpy as np\n",
    "# PVInsight Code Imports\n",
    "from solardatatools import DataHandler\n",
    "from solardatatools.dataio import get_pvdaq_data\n",
    "path = Path.cwd().parent.parent.parent\n",
    "os.chdir(path)"
   ]
  },
  {
   "cell_type": "markdown",
   "id": "3339ccef",
   "metadata": {},
   "source": [
    "### Load data table from external source\n",
    "\n",
    "#### For today's example, we're loading data from NREL's PVDAQ API, which is a publically available PV generatation data set."
   ]
  },
  {
   "cell_type": "code",
   "execution_count": 3,
   "id": "7a35db8d",
   "metadata": {},
   "outputs": [
    {
     "name": "stdout",
     "output_type": "stream",
     "text": [
      "CAUTION: Multiple scan rates detected!=======================] 100.0% ...queries complete in 24.9 seconds       \n",
      "Scan rates (in seconds): [300, 280]\n",
      "0 transitions detected.\n",
      "Suggest splitting data set between:\n",
      "\n",
      "\n"
     ]
    }
   ],
   "source": [
    "data_frame = get_pvdaq_data(sysid=1199, year=[2015, 2016, 2017], api_key='DEMO_KEY')"
   ]
  },
  {
   "cell_type": "code",
   "execution_count": 4,
   "id": "062f312a",
   "metadata": {},
   "outputs": [],
   "source": [
    "gmt_offset = -5"
   ]
  },
  {
   "cell_type": "markdown",
   "id": "0a4e0ed0",
   "metadata": {},
   "source": [
    "### Running the  DataHandler"
   ]
  },
  {
   "cell_type": "code",
   "execution_count": 5,
   "id": "201dbffa",
   "metadata": {},
   "outputs": [],
   "source": [
    "dh = DataHandler(data_frame[0])\n",
    "dh.fix_dst()"
   ]
  },
  {
   "cell_type": "code",
   "execution_count": 6,
   "id": "708a3385",
   "metadata": {},
   "outputs": [
    {
     "name": "stdout",
     "output_type": "stream",
     "text": [
      "total time: 16.21 seconds\n",
      "--------------------------------\n",
      "Breakdown\n",
      "--------------------------------\n",
      "Preprocessing              5.37s\n",
      "Cleaning                   0.29s\n",
      "Filtering/Summarizing      10.54s\n",
      "    Data quality           0.43s\n",
      "    Clear day detect       0.30s\n",
      "    Clipping detect        8.40s\n",
      "    Capacity change detect 1.40s\n",
      "\n"
     ]
    }
   ],
   "source": [
    "dh.run_pipeline(power_col='ac_power', fix_shifts=False, correct_tz=False)"
   ]
  },
  {
   "cell_type": "code",
   "execution_count": 7,
   "id": "naval-impact",
   "metadata": {},
   "outputs": [],
   "source": [
    "days = dh.daily_flags.no_errors"
   ]
  },
  {
   "cell_type": "code",
   "execution_count": 8,
   "id": "unlikely-vector",
   "metadata": {},
   "outputs": [],
   "source": [
    "day_of_year = dh.day_index.dayofyear"
   ]
  },
  {
   "cell_type": "code",
   "execution_count": 9,
   "id": "wired-boxing",
   "metadata": {},
   "outputs": [],
   "source": [
    "day_range = np.ones(day_of_year.shape, dtype=bool)"
   ]
  },
  {
   "cell_type": "code",
   "execution_count": 10,
   "id": "romantic-reminder",
   "metadata": {},
   "outputs": [],
   "source": [
    "daily_meas = dh.filled_data_matrix.shape[0]"
   ]
  },
  {
   "cell_type": "code",
   "execution_count": 11,
   "id": "integral-editor",
   "metadata": {},
   "outputs": [],
   "source": [
    "daytime_threshold = None"
   ]
  },
  {
   "cell_type": "code",
   "execution_count": 12,
   "id": "animated-import",
   "metadata": {},
   "outputs": [],
   "source": [
    "from pvsystemprofiler.algorithms.performance_model_estimation import find_fit_costheta"
   ]
  },
  {
   "cell_type": "code",
   "execution_count": 13,
   "id": "floral-leader",
   "metadata": {},
   "outputs": [],
   "source": [
    "scale_factor_costheta, costheta_fit = find_fit_costheta(dh.filled_data_matrix, dh.daily_flags.no_errors)"
   ]
  },
  {
   "cell_type": "code",
   "execution_count": 14,
   "id": "focused-mission",
   "metadata": {},
   "outputs": [],
   "source": [
    "from pvsystemprofiler.algorithms.tilt_azimuth.daytime_threshold_quantile import filter_data"
   ]
  },
  {
   "cell_type": "code",
   "execution_count": 15,
   "id": "authentic-cover",
   "metadata": {},
   "outputs": [],
   "source": [
    "from pvsystemprofiler.algorithms.latitude.hours_daylight import calculate_hours_daylight"
   ]
  },
  {
   "cell_type": "code",
   "execution_count": 18,
   "id": "acute-freeware",
   "metadata": {},
   "outputs": [],
   "source": [
    "from solardatatools.algorithms import SunriseSunset"
   ]
  },
  {
   "cell_type": "code",
   "execution_count": 19,
   "id": "ready-jerusalem",
   "metadata": {},
   "outputs": [],
   "source": [
    "ss = SunriseSunset()"
   ]
  },
  {
   "cell_type": "code",
   "execution_count": 21,
   "id": "internal-carpet",
   "metadata": {},
   "outputs": [],
   "source": [
    "ss.run_optimizer(data=dh.filled_data_matrix)"
   ]
  },
  {
   "cell_type": "code",
   "execution_count": 22,
   "id": "answering-essence",
   "metadata": {},
   "outputs": [],
   "source": [
    "hours_daylight = ss.sunset_estimates - ss.sunrise_estimates"
   ]
  },
  {
   "cell_type": "code",
   "execution_count": 23,
   "id": "simplified-external",
   "metadata": {},
   "outputs": [],
   "source": [
    "#hours_daylight = calculate_hours_daylight(dh.filled_data_matrix, threshold=daytime_threshold)"
   ]
  },
  {
   "cell_type": "code",
   "execution_count": 24,
   "id": "starting-posting",
   "metadata": {},
   "outputs": [],
   "source": [
    "boolean_filter = filter_data(dh.filled_data_matrix, daytime_threshold=daytime_threshold, x1=0.9, x2=0.9)"
   ]
  },
  {
   "cell_type": "code",
   "execution_count": 25,
   "id": "major-beast",
   "metadata": {},
   "outputs": [],
   "source": [
    "boolean_filter = boolean_filter * days * day_range"
   ]
  },
  {
   "cell_type": "code",
   "execution_count": 26,
   "id": "cutting-vegetarian",
   "metadata": {},
   "outputs": [],
   "source": [
    "from pvsystemprofiler.utilities.hour_angle_equation import calculate_omega"
   ]
  },
  {
   "cell_type": "code",
   "execution_count": 27,
   "id": "wireless-lotus",
   "metadata": {},
   "outputs": [],
   "source": [
    "latitude = 39.4856\n",
    "longitude = -76.6636\n",
    "tilt = 180\n",
    "azimuth = 20\n",
    "gmt_offset = -5"
   ]
  },
  {
   "cell_type": "code",
   "execution_count": 28,
   "id": "compact-elephant",
   "metadata": {},
   "outputs": [],
   "source": [
    "omega = calculate_omega(dh.data_sampling, dh.num_days, longitude, day_of_year, gmt_offset)"
   ]
  },
  {
   "cell_type": "code",
   "execution_count": 29,
   "id": "protective-cinema",
   "metadata": {},
   "outputs": [],
   "source": [
    "from pvsystemprofiler.utilities.declination_equation import delta_cooper"
   ]
  },
  {
   "cell_type": "code",
   "execution_count": 30,
   "id": "enhanced-nature",
   "metadata": {},
   "outputs": [],
   "source": [
    "delta = delta_cooper(day_of_year, daily_meas)"
   ]
  },
  {
   "cell_type": "code",
   "execution_count": 31,
   "id": "flexible-aberdeen",
   "metadata": {},
   "outputs": [],
   "source": [
    "delta_f = delta[boolean_filter]"
   ]
  },
  {
   "cell_type": "code",
   "execution_count": 32,
   "id": "entitled-story",
   "metadata": {},
   "outputs": [],
   "source": [
    "omega_f = omega[boolean_filter]"
   ]
  },
  {
   "cell_type": "code",
   "execution_count": 33,
   "id": "nominated-marketing",
   "metadata": {},
   "outputs": [],
   "source": [
    "from pvsystemprofiler.algorithms.angle_of_incidence.lambda_functions import select_function"
   ]
  },
  {
   "cell_type": "code",
   "execution_count": 34,
   "id": "timely-manufacturer",
   "metadata": {},
   "outputs": [],
   "source": [
    "func_customized, bounds = select_function(latitude, None, None)"
   ]
  },
  {
   "cell_type": "code",
   "execution_count": 35,
   "id": "irish-hacker",
   "metadata": {},
   "outputs": [],
   "source": [
    "from pvsystemprofiler.algorithms.angle_of_incidence.curve_fitting import run_curve_fit"
   ]
  },
  {
   "cell_type": "code",
   "execution_count": 36,
   "id": "double-easter",
   "metadata": {},
   "outputs": [],
   "source": [
    "estimates = run_curve_fit(func=func_customized, keys=['tilt', 'azimuth'], delta=delta_f, omega=omega_f,\n",
    "                                  costheta=costheta_fit, boolean_filter=boolean_filter, init_values=[30, 16],\n",
    "                                  fit_bounds=bounds)"
   ]
  },
  {
   "cell_type": "code",
   "execution_count": 37,
   "id": "clear-retention",
   "metadata": {},
   "outputs": [
    {
     "data": {
      "text/plain": [
       "array([31.73741817,  1.65643241])"
      ]
     },
     "execution_count": 37,
     "metadata": {},
     "output_type": "execute_result"
    }
   ],
   "source": [
    "estimates"
   ]
  },
  {
   "cell_type": "code",
   "execution_count": 38,
   "id": "young-universe",
   "metadata": {},
   "outputs": [],
   "source": [
    "from pvsystemprofiler.estimator import ConfigurationEstimator"
   ]
  },
  {
   "cell_type": "code",
   "execution_count": 39,
   "id": "wrong-separation",
   "metadata": {},
   "outputs": [],
   "source": [
    "est = ConfigurationEstimator(dh, gmt_offset=-5)"
   ]
  },
  {
   "cell_type": "code",
   "execution_count": 40,
   "id": "built-latvia",
   "metadata": {},
   "outputs": [],
   "source": [
    "est.estimate_orientation(longitude=longitude, latitude=latitude)"
   ]
  },
  {
   "cell_type": "code",
   "execution_count": 41,
   "id": "editorial-messenger",
   "metadata": {},
   "outputs": [
    {
     "data": {
      "text/plain": [
       "37.83500389539509"
      ]
     },
     "execution_count": 41,
     "metadata": {},
     "output_type": "execute_result"
    }
   ],
   "source": [
    "est.tilt"
   ]
  },
  {
   "cell_type": "code",
   "execution_count": 42,
   "id": "suspected-virginia",
   "metadata": {},
   "outputs": [
    {
     "data": {
      "text/plain": [
       "-0.9222734481324977"
      ]
     },
     "execution_count": 42,
     "metadata": {},
     "output_type": "execute_result"
    }
   ],
   "source": [
    "est.azimuth"
   ]
  },
  {
   "cell_type": "code",
   "execution_count": 43,
   "id": "legislative-philip",
   "metadata": {},
   "outputs": [
    {
     "data": {
      "text/plain": [
       "array([37.8350039 , -0.92227345])"
      ]
     },
     "execution_count": 43,
     "metadata": {},
     "output_type": "execute_result"
    }
   ],
   "source": [
    "run_curve_fit(func=est.func, keys=est.keys, delta=est.delta, omega=est.omega,\n",
    "                                  costheta=est.ctheta, boolean_filter=est.bf, init_values=est.iv,\n",
    "                                  fit_bounds=est.fitb)"
   ]
  },
  {
   "cell_type": "code",
   "execution_count": 44,
   "id": "first-iceland",
   "metadata": {},
   "outputs": [
    {
     "name": "stderr",
     "output_type": "stream",
     "text": [
      "/Users/londonoh/Documents/github/pv-system-profiler/pvsystemprofiler/algorithms/angle_of_incidence/curve_fitting.py:25: VisibleDeprecationWarning: Creating an ndarray from ragged nested sequences (which is a list-or-tuple of lists-or-tuples-or ndarrays with different lengths or shapes) is deprecated. If you meant to do this, you must specify 'dtype=object' when creating the ndarray\n",
      "  x = np.array([np.deg2rad(delta), np.deg2rad(omega)])\n"
     ]
    },
    {
     "ename": "ValueError",
     "evalue": "setting an array element with a sequence.",
     "output_type": "error",
     "traceback": [
      "\u001b[0;31m---------------------------------------------------------------------------\u001b[0m",
      "\u001b[0;31mTypeError\u001b[0m                                 Traceback (most recent call last)",
      "\u001b[0;31mTypeError\u001b[0m: only size-1 arrays can be converted to Python scalars",
      "\nThe above exception was the direct cause of the following exception:\n",
      "\u001b[0;31mValueError\u001b[0m                                Traceback (most recent call last)",
      "\u001b[0;32m<ipython-input-44-01a481f4c0ae>\u001b[0m in \u001b[0;36m<module>\u001b[0;34m\u001b[0m\n\u001b[1;32m      1\u001b[0m run_curve_fit(func=func_customized, keys=['tilt', 'azimuth'], delta=delta_f, omega=est.omega,\n\u001b[1;32m      2\u001b[0m                                   \u001b[0mcostheta\u001b[0m\u001b[0;34m=\u001b[0m\u001b[0mest\u001b[0m\u001b[0;34m.\u001b[0m\u001b[0mctheta\u001b[0m\u001b[0;34m,\u001b[0m \u001b[0mboolean_filter\u001b[0m\u001b[0;34m=\u001b[0m\u001b[0mest\u001b[0m\u001b[0;34m.\u001b[0m\u001b[0mbf\u001b[0m\u001b[0;34m,\u001b[0m \u001b[0minit_values\u001b[0m\u001b[0;34m=\u001b[0m\u001b[0mest\u001b[0m\u001b[0;34m.\u001b[0m\u001b[0miv\u001b[0m\u001b[0;34m,\u001b[0m\u001b[0;34m\u001b[0m\u001b[0;34m\u001b[0m\u001b[0m\n\u001b[0;32m----> 3\u001b[0;31m                                   fit_bounds=est.fitb)\n\u001b[0m",
      "\u001b[0;32m~/Documents/github/pv-system-profiler/pvsystemprofiler/algorithms/angle_of_incidence/curve_fitting.py\u001b[0m in \u001b[0;36mrun_curve_fit\u001b[0;34m(func, keys, delta, omega, costheta, boolean_filter, init_values, fit_bounds)\u001b[0m\n\u001b[1;32m     25\u001b[0m     \u001b[0mx\u001b[0m \u001b[0;34m=\u001b[0m \u001b[0mnp\u001b[0m\u001b[0;34m.\u001b[0m\u001b[0marray\u001b[0m\u001b[0;34m(\u001b[0m\u001b[0;34m[\u001b[0m\u001b[0mnp\u001b[0m\u001b[0;34m.\u001b[0m\u001b[0mdeg2rad\u001b[0m\u001b[0;34m(\u001b[0m\u001b[0mdelta\u001b[0m\u001b[0;34m)\u001b[0m\u001b[0;34m,\u001b[0m \u001b[0mnp\u001b[0m\u001b[0;34m.\u001b[0m\u001b[0mdeg2rad\u001b[0m\u001b[0;34m(\u001b[0m\u001b[0momega\u001b[0m\u001b[0;34m)\u001b[0m\u001b[0;34m]\u001b[0m\u001b[0;34m)\u001b[0m\u001b[0;34m\u001b[0m\u001b[0;34m\u001b[0m\u001b[0m\n\u001b[1;32m     26\u001b[0m \u001b[0;34m\u001b[0m\u001b[0m\n\u001b[0;32m---> 27\u001b[0;31m     \u001b[0mpopt\u001b[0m\u001b[0;34m,\u001b[0m \u001b[0mpcov\u001b[0m \u001b[0;34m=\u001b[0m \u001b[0mcurve_fit\u001b[0m\u001b[0;34m(\u001b[0m\u001b[0mfunc\u001b[0m\u001b[0;34m,\u001b[0m \u001b[0mx\u001b[0m\u001b[0;34m,\u001b[0m \u001b[0mcostheta_fit\u001b[0m\u001b[0;34m,\u001b[0m \u001b[0mp0\u001b[0m\u001b[0;34m=\u001b[0m\u001b[0mnp\u001b[0m\u001b[0;34m.\u001b[0m\u001b[0mdeg2rad\u001b[0m\u001b[0;34m(\u001b[0m\u001b[0minit_values\u001b[0m\u001b[0;34m)\u001b[0m\u001b[0;34m,\u001b[0m \u001b[0mbounds\u001b[0m\u001b[0;34m=\u001b[0m\u001b[0mfit_bounds\u001b[0m\u001b[0;34m)\u001b[0m\u001b[0;34m\u001b[0m\u001b[0;34m\u001b[0m\u001b[0m\n\u001b[0m\u001b[1;32m     28\u001b[0m \u001b[0;34m\u001b[0m\u001b[0m\n\u001b[1;32m     29\u001b[0m     \u001b[0;32mif\u001b[0m \u001b[0;34m'azimuth_estimate'\u001b[0m \u001b[0;32min\u001b[0m \u001b[0mkeys\u001b[0m\u001b[0;34m:\u001b[0m\u001b[0;34m\u001b[0m\u001b[0;34m\u001b[0m\u001b[0m\n",
      "\u001b[0;32m~/miniconda3/envs/pvi-user/lib/python3.7/site-packages/scipy/optimize/minpack.py\u001b[0m in \u001b[0;36mcurve_fit\u001b[0;34m(f, xdata, ydata, p0, sigma, absolute_sigma, check_finite, bounds, method, jac, **kwargs)\u001b[0m\n\u001b[1;32m    740\u001b[0m         \u001b[0;31m# non-array_like `xdata`.\u001b[0m\u001b[0;34m\u001b[0m\u001b[0;34m\u001b[0m\u001b[0;34m\u001b[0m\u001b[0m\n\u001b[1;32m    741\u001b[0m         \u001b[0;32mif\u001b[0m \u001b[0mcheck_finite\u001b[0m\u001b[0;34m:\u001b[0m\u001b[0;34m\u001b[0m\u001b[0;34m\u001b[0m\u001b[0m\n\u001b[0;32m--> 742\u001b[0;31m             \u001b[0mxdata\u001b[0m \u001b[0;34m=\u001b[0m \u001b[0mnp\u001b[0m\u001b[0;34m.\u001b[0m\u001b[0masarray_chkfinite\u001b[0m\u001b[0;34m(\u001b[0m\u001b[0mxdata\u001b[0m\u001b[0;34m,\u001b[0m \u001b[0mfloat\u001b[0m\u001b[0;34m)\u001b[0m\u001b[0;34m\u001b[0m\u001b[0;34m\u001b[0m\u001b[0m\n\u001b[0m\u001b[1;32m    743\u001b[0m         \u001b[0;32melse\u001b[0m\u001b[0;34m:\u001b[0m\u001b[0;34m\u001b[0m\u001b[0;34m\u001b[0m\u001b[0m\n\u001b[1;32m    744\u001b[0m             \u001b[0mxdata\u001b[0m \u001b[0;34m=\u001b[0m \u001b[0mnp\u001b[0m\u001b[0;34m.\u001b[0m\u001b[0masarray\u001b[0m\u001b[0;34m(\u001b[0m\u001b[0mxdata\u001b[0m\u001b[0;34m,\u001b[0m \u001b[0mfloat\u001b[0m\u001b[0;34m)\u001b[0m\u001b[0;34m\u001b[0m\u001b[0;34m\u001b[0m\u001b[0m\n",
      "\u001b[0;32m~/miniconda3/envs/pvi-user/lib/python3.7/site-packages/numpy/lib/function_base.py\u001b[0m in \u001b[0;36masarray_chkfinite\u001b[0;34m(a, dtype, order)\u001b[0m\n\u001b[1;32m    481\u001b[0m \u001b[0;34m\u001b[0m\u001b[0m\n\u001b[1;32m    482\u001b[0m     \"\"\"\n\u001b[0;32m--> 483\u001b[0;31m     \u001b[0ma\u001b[0m \u001b[0;34m=\u001b[0m \u001b[0masarray\u001b[0m\u001b[0;34m(\u001b[0m\u001b[0ma\u001b[0m\u001b[0;34m,\u001b[0m \u001b[0mdtype\u001b[0m\u001b[0;34m=\u001b[0m\u001b[0mdtype\u001b[0m\u001b[0;34m,\u001b[0m \u001b[0morder\u001b[0m\u001b[0;34m=\u001b[0m\u001b[0morder\u001b[0m\u001b[0;34m)\u001b[0m\u001b[0;34m\u001b[0m\u001b[0;34m\u001b[0m\u001b[0m\n\u001b[0m\u001b[1;32m    484\u001b[0m     \u001b[0;32mif\u001b[0m \u001b[0ma\u001b[0m\u001b[0;34m.\u001b[0m\u001b[0mdtype\u001b[0m\u001b[0;34m.\u001b[0m\u001b[0mchar\u001b[0m \u001b[0;32min\u001b[0m \u001b[0mtypecodes\u001b[0m\u001b[0;34m[\u001b[0m\u001b[0;34m'AllFloat'\u001b[0m\u001b[0;34m]\u001b[0m \u001b[0;32mand\u001b[0m \u001b[0;32mnot\u001b[0m \u001b[0mnp\u001b[0m\u001b[0;34m.\u001b[0m\u001b[0misfinite\u001b[0m\u001b[0;34m(\u001b[0m\u001b[0ma\u001b[0m\u001b[0;34m)\u001b[0m\u001b[0;34m.\u001b[0m\u001b[0mall\u001b[0m\u001b[0;34m(\u001b[0m\u001b[0;34m)\u001b[0m\u001b[0;34m:\u001b[0m\u001b[0;34m\u001b[0m\u001b[0;34m\u001b[0m\u001b[0m\n\u001b[1;32m    485\u001b[0m         raise ValueError(\n",
      "\u001b[0;32m~/miniconda3/envs/pvi-user/lib/python3.7/site-packages/numpy/core/_asarray.py\u001b[0m in \u001b[0;36masarray\u001b[0;34m(a, dtype, order)\u001b[0m\n\u001b[1;32m     81\u001b[0m \u001b[0;34m\u001b[0m\u001b[0m\n\u001b[1;32m     82\u001b[0m     \"\"\"\n\u001b[0;32m---> 83\u001b[0;31m     \u001b[0;32mreturn\u001b[0m \u001b[0marray\u001b[0m\u001b[0;34m(\u001b[0m\u001b[0ma\u001b[0m\u001b[0;34m,\u001b[0m \u001b[0mdtype\u001b[0m\u001b[0;34m,\u001b[0m \u001b[0mcopy\u001b[0m\u001b[0;34m=\u001b[0m\u001b[0;32mFalse\u001b[0m\u001b[0;34m,\u001b[0m \u001b[0morder\u001b[0m\u001b[0;34m=\u001b[0m\u001b[0morder\u001b[0m\u001b[0;34m)\u001b[0m\u001b[0;34m\u001b[0m\u001b[0;34m\u001b[0m\u001b[0m\n\u001b[0m\u001b[1;32m     84\u001b[0m \u001b[0;34m\u001b[0m\u001b[0m\n\u001b[1;32m     85\u001b[0m \u001b[0;34m\u001b[0m\u001b[0m\n",
      "\u001b[0;31mValueError\u001b[0m: setting an array element with a sequence."
     ]
    }
   ],
   "source": [
    "run_curve_fit(func=func_customized, keys=['tilt', 'azimuth'], delta=delta_f, omega=est.omega,\n",
    "                                  costheta=est.ctheta, boolean_filter=est.bf, init_values=est.iv,\n",
    "                                  fit_bounds=est.fitb)"
   ]
  },
  {
   "cell_type": "code",
   "execution_count": 49,
   "id": "pleasant-deputy",
   "metadata": {},
   "outputs": [
    {
     "data": {
      "text/plain": [
       "3480"
      ]
     },
     "execution_count": 49,
     "metadata": {},
     "output_type": "execute_result"
    }
   ],
   "source": [
    "np.sum(est.bf)"
   ]
  },
  {
   "cell_type": "code",
   "execution_count": 50,
   "id": "necessary-intervention",
   "metadata": {},
   "outputs": [
    {
     "data": {
      "text/plain": [
       "9916"
      ]
     },
     "execution_count": 50,
     "metadata": {},
     "output_type": "execute_result"
    }
   ],
   "source": [
    "np.sum(boolean_filter)"
   ]
  },
  {
   "cell_type": "code",
   "execution_count": 46,
   "id": "southeast-drawing",
   "metadata": {},
   "outputs": [
    {
     "data": {
      "text/plain": [
       "-6627.35137762615"
      ]
     },
     "execution_count": 46,
     "metadata": {},
     "output_type": "execute_result"
    }
   ],
   "source": [
    "np.sum(delta)"
   ]
  },
  {
   "cell_type": "code",
   "execution_count": null,
   "id": "cosmetic-sucking",
   "metadata": {},
   "outputs": [],
   "source": [
    "est.tilt"
   ]
  },
  {
   "cell_type": "code",
   "execution_count": null,
   "id": "august-timothy",
   "metadata": {},
   "outputs": [],
   "source": [
    "est.azimuth"
   ]
  },
  {
   "cell_type": "code",
   "execution_count": null,
   "id": "growing-season",
   "metadata": {},
   "outputs": [],
   "source": [
    "delta = delta_cooper(day_of_year, daily_meas)"
   ]
  },
  {
   "cell_type": "code",
   "execution_count": null,
   "id": "dutch-hearts",
   "metadata": {},
   "outputs": [],
   "source": [
    "delta"
   ]
  },
  {
   "cell_type": "code",
   "execution_count": null,
   "id": "moved-vertex",
   "metadata": {},
   "outputs": [],
   "source": [
    "est.delta"
   ]
  },
  {
   "cell_type": "code",
   "execution_count": null,
   "id": "physical-basics",
   "metadata": {},
   "outputs": [],
   "source": [
    "delta_f"
   ]
  },
  {
   "cell_type": "code",
   "execution_count": null,
   "id": "demonstrated-newman",
   "metadata": {},
   "outputs": [],
   "source": [
    "est.delta_f"
   ]
  },
  {
   "cell_type": "code",
   "execution_count": null,
   "id": "subsequent-indication",
   "metadata": {},
   "outputs": [],
   "source": [
    "boolean_filter"
   ]
  },
  {
   "cell_type": "code",
   "execution_count": null,
   "id": "acoustic-poultry",
   "metadata": {},
   "outputs": [],
   "source": [
    "est.bf"
   ]
  },
  {
   "cell_type": "code",
   "execution_count": null,
   "id": "popular-intermediate",
   "metadata": {},
   "outputs": [],
   "source": [
    "np.min(est.bf == boolean_filter)"
   ]
  },
  {
   "cell_type": "code",
   "execution_count": null,
   "id": "bigger-illinois",
   "metadata": {},
   "outputs": [],
   "source": [
    "np.sum(boolean_filter)"
   ]
  },
  {
   "cell_type": "code",
   "execution_count": null,
   "id": "annoying-backing",
   "metadata": {},
   "outputs": [],
   "source": [
    "np.sum(est.bf)"
   ]
  },
  {
   "cell_type": "code",
   "execution_count": null,
   "id": "fancy-variance",
   "metadata": {},
   "outputs": [],
   "source": [
    "est.daytime_threshold"
   ]
  },
  {
   "cell_type": "code",
   "execution_count": null,
   "id": "increased-spoke",
   "metadata": {},
   "outputs": [],
   "source": [
    "est.x1"
   ]
  },
  {
   "cell_type": "code",
   "execution_count": null,
   "id": "regular-genetics",
   "metadata": {},
   "outputs": [],
   "source": [
    "est.x2"
   ]
  },
  {
   "cell_type": "code",
   "execution_count": null,
   "id": "capable-cornwall",
   "metadata": {},
   "outputs": [],
   "source": [
    "est.daytime_threshold"
   ]
  },
  {
   "cell_type": "code",
   "execution_count": null,
   "id": "renewable-assistant",
   "metadata": {},
   "outputs": [],
   "source": []
  }
 ],
 "metadata": {
  "kernelspec": {
   "display_name": "Python 3",
   "language": "python",
   "name": "python3"
  },
  "language_info": {
   "codemirror_mode": {
    "name": "ipython",
    "version": 3
   },
   "file_extension": ".py",
   "mimetype": "text/x-python",
   "name": "python",
   "nbconvert_exporter": "python",
   "pygments_lexer": "ipython3",
   "version": "3.7.6"
  }
 },
 "nbformat": 4,
 "nbformat_minor": 5
}
