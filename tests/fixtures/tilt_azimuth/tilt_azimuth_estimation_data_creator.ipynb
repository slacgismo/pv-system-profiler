{
 "cells": [
  {
   "cell_type": "markdown",
   "id": "71df060f",
   "metadata": {},
   "source": [
    "## Generating fixtures to test the Equation Of Time functions, the Longitude Fitting Functions and the Longitude Calculation Functions"
   ]
  },
  {
   "cell_type": "markdown",
   "id": "60ce3103",
   "metadata": {},
   "source": [
    "### Expected Longitude Output is downloaded directly from https://maps.nrel.gov/pvdaq/ PVDAQ Contributed Sites\n",
    "\n",
    "### Expected longitude = -76.6636"
   ]
  },
  {
   "cell_type": "code",
   "execution_count": 1,
   "id": "valid-complement",
   "metadata": {},
   "outputs": [],
   "source": [
    "%load_ext autoreload\n",
    "%autoreload 2"
   ]
  },
  {
   "cell_type": "code",
   "execution_count": 2,
   "id": "8c0ee1e6",
   "metadata": {},
   "outputs": [],
   "source": [
    "import os\n",
    "import pandas as pd\n",
    "from pathlib import Path\n",
    "import seaborn as sns\n",
    "import numpy as np\n",
    "# PVInsight Code Imports\n",
    "from solardatatools import DataHandler\n",
    "from solardatatools.dataio import get_pvdaq_data\n",
    "path = Path.cwd().parent.parent.parent\n",
    "os.chdir(path)"
   ]
  },
  {
   "cell_type": "markdown",
   "id": "3339ccef",
   "metadata": {},
   "source": [
    "### Load data table from external source\n",
    "\n",
    "#### For today's example, we're loading data from NREL's PVDAQ API, which is a publically available PV generatation data set."
   ]
  },
  {
   "cell_type": "code",
   "execution_count": 3,
   "id": "wireless-lotus",
   "metadata": {},
   "outputs": [],
   "source": [
    "latitude = 39.4856\n",
    "longitude = -76.6636\n",
    "tilt = 20\n",
    "azimuth = 180\n",
    "gmt_offset = -5"
   ]
  },
  {
   "cell_type": "code",
   "execution_count": 4,
   "id": "7a35db8d",
   "metadata": {},
   "outputs": [
    {
     "name": "stdout",
     "output_type": "stream",
     "text": [

      "CAUTION: Multiple scan rates detected!=======================] 100.0% ...queries complete in 26.2 seconds       \n",

      "Scan rates (in seconds): [300, 280]\n",
      "0 transitions detected.\n",
      "Suggest splitting data set between:\n",
      "\n",
      "\n"
     ]
    }
   ],
   "source": [
    "data_frame = get_pvdaq_data(sysid=1199, year=[2015, 2016, 2017], api_key='DEMO_KEY')"
   ]
  },
  {
   "cell_type": "code",
   "execution_count": 5,
   "id": "062f312a",
   "metadata": {},
   "outputs": [],
   "source": [
    "gmt_offset = -5"
   ]
  },
  {
   "cell_type": "markdown",
   "id": "0a4e0ed0",
   "metadata": {},
   "source": [
    "### Running the  DataHandler"
   ]
  },
  {
   "cell_type": "code",
   "execution_count": 6,
   "id": "201dbffa",
   "metadata": {},
   "outputs": [],
   "source": [
    "dh = DataHandler(data_frame[0])\n",
    "dh.fix_dst()"
   ]
  },
  {
   "cell_type": "code",
   "execution_count": 7,
   "id": "708a3385",
   "metadata": {},
   "outputs": [
    {
     "name": "stdout",
     "output_type": "stream",
     "text": [
      "total time: 6.77 seconds\n",
      "--------------------------------\n",
      "Breakdown\n",
      "--------------------------------\n",
      "Preprocessing              2.16s\n",
      "Cleaning                   0.11s\n",
      "Filtering/Summarizing      4.50s\n",
      "    Data quality           0.15s\n",
      "    Clear day detect       0.11s\n",
      "    Clipping detect        3.71s\n",
      "    Capacity change detect 0.52s\n",
      "\n"
     ]
    }
   ],
   "source": [
    "dh.run_pipeline(power_col='ac_power', fix_shifts=False, correct_tz=False)"
   ]
  },
  {
   "cell_type": "code",
   "execution_count": 8,
   "id": "naval-impact",
   "metadata": {},
   "outputs": [],
   "source": [
    "days = dh.daily_flags.no_errors"
   ]
  },
  {
   "cell_type": "code",
   "execution_count": 9,
   "id": "unlikely-vector",
   "metadata": {},
   "outputs": [],
   "source": [
    "day_of_year = dh.day_index.dayofyear"
   ]
  },
  {
   "cell_type": "code",
   "execution_count": 10,
   "id": "wired-boxing",
   "metadata": {},
   "outputs": [],
   "source": [
    "day_range = np.ones(day_of_year.shape, dtype=bool)"
   ]
  },
  {
   "cell_type": "code",
   "execution_count": 11,
   "id": "romantic-reminder",
   "metadata": {},
   "outputs": [],
   "source": [
    "daily_meas = dh.filled_data_matrix.shape[0]"
   ]
  },
  {
   "cell_type": "code",
   "execution_count": 12,
   "id": "integral-editor",
   "metadata": {},
   "outputs": [],
   "source": [
    "daytime_threshold = None"
   ]
  },
  {
   "cell_type": "code",
   "execution_count": 13,
   "id": "c55c4c36",
   "metadata": {},
   "outputs": [],
   "source": [
    "# exporting inputs for tilt and azimuth estimation\n",
    "#day_of_year\n",
    "#np.savetxt('./tests/fixtures/tilt_azimuth/day_of_year.csv', day_of_year,  delimiter=\",\")\n",
    "# days\n",
    "#np.savetxt('./tests/fixtures/tilt_azimuth/days.csv', days,  delimiter=\",\")\n",
    "#day range\n",
    "# days\n",
    "#np.savetxt('./tests/fixtures/tilt_azimuth/day_range.csv', day_range,  delimiter=\",\")"
   ]
  },
  {
   "cell_type": "markdown",
   "id": "curious-special",
   "metadata": {},
   "source": [
    "## Calculate cosine of angle of incidence"
   ]
  },
  {
   "cell_type": "code",
   "execution_count": 14,
   "id": "animated-import",
   "metadata": {},
   "outputs": [],
   "source": [
    "from pvsystemprofiler.algorithms.performance_model_estimation import find_fit_costheta"
   ]
  },
  {
   "cell_type": "code",
   "execution_count": 15,
   "id": "floral-leader",
   "metadata": {},
   "outputs": [],
   "source": [
    "scale_factor_costheta, costheta_fit = find_fit_costheta(dh.filled_data_matrix, dh.daily_flags.no_errors)"
   ]
  },
  {
   "cell_type": "code",
   "execution_count": 16,
   "id": "b00169d4",
   "metadata": {},
   "outputs": [],
   "source": [
    "# exporting inputs for tilt and azimuth estimation\n",
    "# costheta_fit\n",
    "np.savetxt('./tests/fixtures/tilt_azimuth/costheta_fit.csv', costheta_fit,  delimiter=\",\")"
   ]
  },
  {
   "cell_type": "markdown",
   "id": "unauthorized-survey",
   "metadata": {},
   "source": [
    "## Find hours daylight"
   ]
  },
  {
   "cell_type": "code",
   "execution_count": 17,
   "id": "authentic-cover",
   "metadata": {},
   "outputs": [],
   "source": [
    "from pvsystemprofiler.algorithms.latitude.hours_daylight import calculate_hours_daylight"
   ]
  },
  {
   "cell_type": "code",
   "execution_count": 18,
   "id": "acute-freeware",
   "metadata": {},
   "outputs": [],
   "source": [
    "from solardatatools.algorithms import SunriseSunset"
   ]
  },
  {
   "cell_type": "code",
   "execution_count": 19,
   "id": "ready-jerusalem",
   "metadata": {},
   "outputs": [],
   "source": [
    "ss = SunriseSunset()"
   ]
  },
  {
   "cell_type": "code",
   "execution_count": 20,
   "id": "internal-carpet",
   "metadata": {},
   "outputs": [],
   "source": [
    "ss.run_optimizer(data=dh.filled_data_matrix)"
   ]
  },
  {
   "cell_type": "code",
   "execution_count": 21,
   "id": "answering-essence",
   "metadata": {},
   "outputs": [],
   "source": [
    "hours_daylight = ss.sunset_estimates - ss.sunrise_estimates"
   ]
  },
  {
   "cell_type": "code",
   "execution_count": 22,
   "id": "f733b887",
   "metadata": {},
   "outputs": [],
   "source": [
    "# exporting inputs for tilt and azimuth estimation\n",
    "# hours_daylight\n",
    "#np.savetxt('./tests/fixtures/tilt_azimuth/hours_daylight.csv', hours_daylight,  delimiter=\",\")"
   ]
  },
  {
   "cell_type": "markdown",
   "id": "impressed-frontier",
   "metadata": {},
   "source": [
    "## Calculate boolean filter"
   ]
  },
  {
   "cell_type": "code",
   "execution_count": 23,
   "id": "focused-mission",
   "metadata": {},
   "outputs": [],
   "source": [
    "from pvsystemprofiler.algorithms.tilt_azimuth.daytime_threshold_quantile import filter_data"
   ]
  },
  {
   "cell_type": "code",
   "execution_count": 24,
   "id": "starting-posting",
   "metadata": {},
   "outputs": [],
   "source": [
    "boolean_filter = filter_data(dh.filled_data_matrix, daytime_threshold=daytime_threshold, x1=0.9, x2=0.9)"
   ]
  },
  {
   "cell_type": "code",
   "execution_count": 25,
   "id": "major-beast",
   "metadata": {},
   "outputs": [],
   "source": [
    "boolean_filter = boolean_filter * days * day_range"
   ]
  },
  {
   "cell_type": "code",
   "execution_count": 26,
   "id": "cutting-vegetarian",
   "metadata": {},
   "outputs": [],
   "source": [
    "from pvsystemprofiler.utilities.hour_angle_equation import calculate_omega"
   ]
  },
  {
   "cell_type": "code",
   "execution_count": 27,
   "id": "96097e6c",
   "metadata": {},
   "outputs": [],
   "source": [
    "# exporting inputs for tilt and azimuth estimation\n",
    "# boolean_filter\n",
    "np.savetxt('./tests/fixtures/tilt_azimuth/boolean_filter.csv', boolean_filter,  delimiter=\",\")"
   ]
  },
  {
   "cell_type": "markdown",
   "id": "regulation-peace",
   "metadata": {},
   "source": [
    "## Calculate hour angle"
   ]
  },
  {
   "cell_type": "code",
   "execution_count": 28,
   "id": "compact-elephant",
   "metadata": {},
   "outputs": [],
   "source": [
    "omega = calculate_omega(dh.data_sampling, dh.num_days, longitude, day_of_year, gmt_offset)"
   ]
  },
  {
   "cell_type": "code",
   "execution_count": 29,
   "id": "entitled-story",
   "metadata": {},
   "outputs": [],
   "source": [
    "omega_f = omega[boolean_filter]"
   ]
  },
  {
   "cell_type": "code",
   "execution_count": 30,
   "id": "dddbfe01",
   "metadata": {},
   "outputs": [],
   "source": [
    "# exporting inputs for tilt and azimuth estimation\n",
    "# omega_f\n",
    "np.savetxt('./tests/fixtures/tilt_azimuth/omega_f.csv', omega_f,  delimiter=\",\")"
   ]
  },
  {
   "cell_type": "markdown",
   "id": "generic-bikini",
   "metadata": {},
   "source": [
    "## Calculate declination"
   ]
  },
  {
   "cell_type": "code",
   "execution_count": 31,
   "id": "protective-cinema",
   "metadata": {},
   "outputs": [],
   "source": [
    "from pvsystemprofiler.utilities.declination_equation import delta_cooper"
   ]
  },
  {
   "cell_type": "code",
   "execution_count": 32,
   "id": "enhanced-nature",
   "metadata": {},
   "outputs": [],
   "source": [
    "delta = delta_cooper(day_of_year, daily_meas)"
   ]
  },
  {
   "cell_type": "code",
   "execution_count": 33,
   "id": "flexible-aberdeen",
   "metadata": {},
   "outputs": [],
   "source": [
    "delta_f = delta[boolean_filter]"
   ]
  },
  {
   "cell_type": "code",
   "execution_count": 34,
   "id": "6d793a41",
   "metadata": {},
   "outputs": [],
   "source": [
    "# exporting inputs for tilt and azimuth estimation\n",
    "# delta_f\n",
    "np.savetxt('./tests/fixtures/tilt_azimuth/delta_f.csv', delta_f,  delimiter=\",\")"
   ]
  },
  {
   "cell_type": "markdown",
   "id": "auburn-liverpool",
   "metadata": {},
   "source": [
    "## Estimate tilt and azimuth using run_curve_fit directly"
   ]
  },
  {
   "cell_type": "code",
   "execution_count": 35,
   "id": "nominated-marketing",
   "metadata": {},
   "outputs": [],
   "source": [
    "from pvsystemprofiler.algorithms.angle_of_incidence.lambda_functions import select_function"
   ]
  },
  {
   "cell_type": "code",
   "execution_count": 36,
   "id": "timely-manufacturer",
   "metadata": {},
   "outputs": [],
   "source": [
    "func_customized, bounds = select_function(latitude, None, None)"
   ]
  },
  {
   "cell_type": "code",
   "execution_count": 37,
   "id": "irish-hacker",
   "metadata": {},
   "outputs": [],
   "source": [
    "from pvsystemprofiler.algorithms.angle_of_incidence.curve_fitting import run_curve_fit"
   ]
  },
  {
   "cell_type": "code",
   "execution_count": 38,
   "id": "double-easter",
   "metadata": {},
   "outputs": [],
   "source": [
    "estimates = run_curve_fit(func=func_customized, keys=['tilt', 'azimuth'], delta=delta_f, omega=omega_f,\n",
    "                                  costheta=costheta_fit, boolean_filter=boolean_filter, init_values=[30, 30],\n",
    "                                  fit_bounds=bounds)"
   ]
  },
  {
   "cell_type": "code",
   "execution_count": 46,
   "id": "clear-retention",
   "metadata": {},
   "outputs": [
    {
     "data": {
      "text/plain": [
       "1.654457422429566"
      ]
     },
     "execution_count": 46,
     "metadata": {},
     "output_type": "execute_result"
    }
   ],
   "source": [
    "estimates[1]"
   ]
  },
  {
   "cell_type": "markdown",
   "id": "flexible-capture",
   "metadata": {},
   "source": [
    "## Estimate tilt and azimuth using the ConfigurationEstimator class"
   ]
  },
  {
   "cell_type": "code",
   "execution_count": 40,
   "id": "young-universe",
   "metadata": {},
   "outputs": [],
   "source": [
    "from pvsystemprofiler.estimator import ConfigurationEstimator"
   ]
  },
  {
   "cell_type": "code",
   "execution_count": 41,
   "id": "wrong-separation",
   "metadata": {},
   "outputs": [],
   "source": [
    "est = ConfigurationEstimator(dh, gmt_offset=-5)"
   ]
  },
  {
   "cell_type": "code",
   "execution_count": 42,
   "id": "built-latvia",
   "metadata": {},
   "outputs": [],
   "source": [
    "est.estimate_orientation(longitude=longitude, latitude=latitude)"
   ]
  },
  {
   "cell_type": "code",
   "execution_count": 43,
   "id": "3bb3554e",
   "metadata": {},
   "outputs": [
    {
     "data": {
      "text/plain": [
       "39.4856"
      ]
     },
     "execution_count": 43,
     "metadata": {},
     "output_type": "execute_result"
    }
   ],
   "source": [
    "latitude"
   ]
  },
  {
   "cell_type": "code",
   "execution_count": 44,
   "id": "editorial-messenger",
   "metadata": {},
   "outputs": [
    {
     "data": {
      "text/plain": [
       "31.736919707713444"
      ]
     },
     "execution_count": 44,
     "metadata": {},
     "output_type": "execute_result"
    }
   ],
   "source": [
    "est.tilt"
   ]
  },
  {
   "cell_type": "code",
   "execution_count": 45,
   "id": "suspected-virginia",
   "metadata": {},
   "outputs": [
    {
     "data": {
      "text/plain": [
      "1.6570329881770878"
      ]
     },
     "execution_count": 45,
     "metadata": {},
     "output_type": "execute_result"
    }
   ],
   "source": [
    "est.azimuth"
   ]
  }
 ],
 "metadata": {
  "kernelspec": {
   "display_name": "Python 3 (ipykernel)",
   "language": "python",
   "name": "python3"
  },
  "language_info": {
   "codemirror_mode": {
    "name": "ipython",
    "version": 3
   },
   "file_extension": ".py",
   "mimetype": "text/x-python",
   "name": "python",
   "nbconvert_exporter": "python",
   "pygments_lexer": "ipython3",
   "version": "3.7.6"
  }
 },
 "nbformat": 4,
 "nbformat_minor": 5
}
