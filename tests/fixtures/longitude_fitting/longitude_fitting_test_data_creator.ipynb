{
 "cells": [
  {
   "cell_type": "markdown",
   "id": "71df060f",
   "metadata": {},
   "source": [
    "## Generating fixtures to test the Equation Of Time functions being used and the Longitude Fitting Functions"
   ]
  },
  {
   "cell_type": "markdown",
   "id": "60ce3103",
   "metadata": {},
   "source": [
    "### Expected Longitude Output is downloaded directly from https://maps.nrel.gov/pvdaq/ PVDAQ Contributed Sites\n",
    "\n",
    "### Expected longitude = -76.6636"
   ]
  },
  {
   "cell_type": "code",
   "execution_count": 1,
   "id": "8c0ee1e6",
   "metadata": {},
   "outputs": [],
   "source": [
    "import os\n",
    "import pandas as pd\n",
    "from pathlib import Path\n",
    "import seaborn as sns\n",
    "import numpy as np\n",
    "# PVInsight Code Imports\n",
    "from solardatatools import DataHandler\n",
    "from solardatatools.dataio import get_pvdaq_data\n",
    "path = Path.cwd().parent.parent.parent\n",
    "os.chdir(path)\n",
    "from pvsystemprofiler.estimator import ConfigurationEstimator\n",
    "from pvsystemprofiler.longitude_study import LongitudeStudy"
   ]
  },
  {
   "cell_type": "markdown",
   "id": "3339ccef",
   "metadata": {},
   "source": [
    "### Load data table from external source\n",
    "\n",
    "#### For today's example, we're loading data from NREL's PVDAQ API, which is a publically available PV generatation data set."
   ]
  },
  {
   "cell_type": "code",
   "execution_count": 2,
   "id": "7a35db8d",
   "metadata": {},
   "outputs": [
    {
     "name": "stdout",
     "output_type": "stream",
     "text": [
      "CAUTION: Multiple scan rates detected!=======================] 100.0% ...queries complete in 50.0 seconds       \n",
      "Scan rates (in seconds): [300, 280]\n",
      "0 transitions detected.\n",
      "Suggest splitting data set between:\n",
      "\n",
      "\n"
     ]
    }
   ],
   "source": [
    "data_frame = get_pvdaq_data(sysid=1199, year=[2015, 2016, 2017], api_key='DEMO_KEY')"
   ]
  },
  {
   "cell_type": "code",
   "execution_count": 3,
   "id": "062f312a",
   "metadata": {},
   "outputs": [],
   "source": [
    "gmt_offset = -5"
   ]
  },
  {
   "cell_type": "markdown",
   "id": "0a4e0ed0",
   "metadata": {},
   "source": [
    "### Running the  DataHandler"
   ]
  },
  {
   "cell_type": "code",
   "execution_count": 4,
   "id": "201dbffa",
   "metadata": {},
   "outputs": [],
   "source": [
    "dh = DataHandler(data_frame[0])\n",
    "dh.fix_dst()"
   ]
  },
  {
   "cell_type": "code",
   "execution_count": 5,
   "id": "708a3385",
   "metadata": {},
   "outputs": [
    {
     "name": "stdout",
     "output_type": "stream",
     "text": [
      "total time: 16.44 seconds\n",
      "--------------------------------\n",
      "Breakdown\n",
      "--------------------------------\n",
      "Preprocessing              5.60s\n",
      "Cleaning                   0.31s\n",
      "Filtering/Summarizing      10.52s\n",
      "    Data quality           0.46s\n",
      "    Clear day detect       0.32s\n",
      "    Clipping detect        8.37s\n",
      "    Capacity change detect 1.37s\n",
      "\n"
     ]
    }
   ],
   "source": [
    "dh.run_pipeline(power_col='ac_power', fix_shifts=False, correct_tz=False)"
   ]
  },
  {
   "cell_type": "markdown",
   "id": "03e2d7c5",
   "metadata": {},
   "source": [
    "### Calculate the daily solar noon"
   ]
  },
  {
   "cell_type": "code",
   "execution_count": 6,
   "id": "40ace537",
   "metadata": {},
   "outputs": [],
   "source": [
    "from solardatatools.algorithms import SunriseSunset"
   ]
  },
  {
   "cell_type": "code",
   "execution_count": 16,
   "id": "irish-steel",
   "metadata": {},
   "outputs": [],
   "source": [
    "ss = SunriseSunset()\n",
    "ss.run_optimizer(data=dh.filled_data_matrix)"
   ]
  },
  {
   "cell_type": "code",
   "execution_count": 18,
   "id": "62b4ffd3",
   "metadata": {},
   "outputs": [],
   "source": [
    "sunrise = ss.sunrise_measurements\n",
    "sunset = ss.sunset_measurements\n",
    "sunrise[np.isnan(sunrise)] = 0\n",
    "sunset[np.isnan(sunset)] = 0\n",
    "solarnoon = np.nanmean([sunrise, sunset], axis=0)"
   ]
  },
  {
   "cell_type": "markdown",
   "id": "ac0b0cee",
   "metadata": {},
   "source": [
    "### Equation of time prosposed by Duffie And Rosa"
   ]
  },
  {
   "cell_type": "code",
   "execution_count": 19,
   "id": "bda468f5",
   "metadata": {},
   "outputs": [],
   "source": [
    "path = Path.cwd()\n",
    "os.chdir(path)"
   ]
  },
  {
   "cell_type": "code",
   "execution_count": 28,
   "id": "effective-cooperative",
   "metadata": {},
   "outputs": [],
   "source": [
    "day_of_year = dh.day_index.dayofyear.to_numpy()\n",
    "days = dh.daily_flags.no_errors"
   ]
  },
  {
   "cell_type": "code",
   "execution_count": 29,
   "id": "910e031c",
   "metadata": {},
   "outputs": [],
   "source": [
    "# Exporting input for eot algorithms\n",
    "np.savetxt('./tests/fixtures/longitude_fitting/eot_input.csv', day_of_year,  delimiter=\",\")"
   ]
  },
  {
   "cell_type": "code",
   "execution_count": 30,
   "id": "1d3cb149",
   "metadata": {},
   "outputs": [],
   "source": [
    "from pvsystemprofiler.utilities.equation_of_time import eot_da_rosa, eot_duffie\n",
    "\n",
    "eot_duffie = eot_duffie(day_of_year)\n",
    "eot_da_rosa = eot_da_rosa(day_of_year)"
   ]
  },
  {
   "cell_type": "code",
   "execution_count": 31,
   "id": "9a563f22",
   "metadata": {},
   "outputs": [],
   "source": [
    "# Exporting output for eot algorithms\n",
    "np.savetxt('./tests/fixtures/longitude_fitting/eot_duffie_output.csv', eot_duffie,  delimiter=\",\")\n",
    "np.savetxt('./tests/fixtures/longitude_fitting/eot_da_rosa_output.csv', eot_da_rosa,  delimiter=\",\")"
   ]
  },
  {
   "cell_type": "markdown",
   "id": "606d2f6a",
   "metadata": {},
   "source": [
    "### Fit longitude"
   ]
  },
  {
   "cell_type": "code",
   "execution_count": 32,
   "id": "1edd7410",
   "metadata": {},
   "outputs": [],
   "source": [
    "# exporting inputs for fit_longitude\n",
    "# solarnoon\n",
    "np.savetxt('./tests/fixtures/longitude_fitting/solarnoon.csv', solarnoon,  delimiter=\",\")\n",
    "# days\n",
    "np.savetxt('./tests/fixtures/longitude_fitting/days.csv', days,  delimiter=\",\")"
   ]
  },
  {
   "cell_type": "code",
   "execution_count": 33,
   "id": "01faad28",
   "metadata": {},
   "outputs": [
    {
     "data": {
      "text/plain": [
       "-77.23547443890078"
      ]
     },
     "execution_count": 33,
     "metadata": {},
     "output_type": "execute_result"
    }
   ],
   "source": [
    "from pvsystemprofiler.algorithms.longitude.fitting import fit_longitude\n",
    "\n",
    "fit_longitude(eot_duffie, solarnoon, days, gmt_offset, loss='l2')"
   ]
  }
 ],
 "metadata": {
  "kernelspec": {
   "display_name": "Python 3",
   "language": "python",
   "name": "python3"
  },
  "language_info": {
   "codemirror_mode": {
    "name": "ipython",
    "version": 3
   },
   "file_extension": ".py",
   "mimetype": "text/x-python",
   "name": "python",
   "nbconvert_exporter": "python",
   "pygments_lexer": "ipython3",
   "version": "3.7.6"
  }
 },
 "nbformat": 4,
 "nbformat_minor": 5
}
