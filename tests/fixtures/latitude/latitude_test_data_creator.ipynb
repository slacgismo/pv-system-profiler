{
 "cells": [
  {
   "cell_type": "markdown",
   "id": "3cab7472",
   "metadata": {},
   "source": [
    "## Generating fixtures to test the Latitude Estimation Function"
   ]
  },
  {
   "cell_type": "markdown",
   "id": "7adac662",
   "metadata": {},
   "source": [
    "### Expected Latitude Output is downloaded directly from https://maps.nrel.gov/pvdaq/ PVDAQ Contributed Sites\n",
    "### Expected latitude = 39.4856"
   ]
  },
  {
   "cell_type": "code",
   "execution_count": 1,
   "id": "00484344",
   "metadata": {},
   "outputs": [],
   "source": [
    "import os\n",
    "import pandas as pd\n",
    "from pathlib import Path\n",
    "import seaborn as sns\n",
    "import numpy as np\n",
    "# PVInsight Code Imports\n",
    "from solardatatools import DataHandler\n",
    "from solardatatools.dataio import get_pvdaq_data\n",
    "path = Path.cwd().parent.parent.parent\n",
    "os.chdir(path)"
   ]
  },
  {
   "cell_type": "markdown",
   "id": "f56c8b39",
   "metadata": {},
   "source": [
    "### Load data table from external source\n",
    "\n",
    "For today's example, we're loading data from NREL's PVDAQ API, which is a publically available PV generatation data set. "
   ]
  },
  {
   "cell_type": "code",
   "execution_count": 2,
   "id": "ef2d09f6",
   "metadata": {},
   "outputs": [
    {
     "name": "stdout",
     "output_type": "stream",
     "text": [
      "CAUTION: Multiple scan rates detected!=======================] 100.0% ...queries complete in 24.3 seconds       \n",
      "Scan rates (in seconds): [300, 280]\n",
      "0 transitions detected.\n",
      "Suggest splitting data set between:\n",
      "\n",
      "\n"
     ]
    }
   ],
   "source": [
    "data_frame = get_pvdaq_data(sysid=1199, year=[2015, 2016, 2017], api_key='DEMO_KEY')"
   ]
  },
  {
   "cell_type": "markdown",
   "id": "195d5daa",
   "metadata": {},
   "source": [
    "### Running the DataHandler"
   ]
  },
  {
   "cell_type": "code",
   "execution_count": 3,
   "id": "90aee5ca",
   "metadata": {},
   "outputs": [],
   "source": [
    "dh = DataHandler(data_frame[0])\n",
    "dh.fix_dst()"
   ]
  },
  {
   "cell_type": "code",
   "execution_count": 4,
   "id": "768d658c",
   "metadata": {},
   "outputs": [
    {
     "name": "stdout",
     "output_type": "stream",
     "text": [
      "total time: 6.98 seconds\n",
      "--------------------------------\n",
      "Breakdown\n",
      "--------------------------------\n",
      "Preprocessing              2.51s\n",
      "Cleaning                   0.13s\n",
      "Filtering/Summarizing      4.34s\n",
      "    Data quality           0.19s\n",
      "    Clear day detect       0.13s\n",
      "    Clipping detect        3.40s\n",
      "    Capacity change detect 0.61s\n",
      "\n"
     ]
    }
   ],
   "source": [
    "dh.run_pipeline(power_col='ac_power', fix_shifts=False, correct_tz=False)"
   ]
  },
  {
   "cell_type": "markdown",
   "id": "d3780761",
   "metadata": {},
   "source": [
    "### Estimate declination"
   ]
  },
  {
   "cell_type": "code",
   "execution_count": 5,
   "id": "48619011",
   "metadata": {},
   "outputs": [],
   "source": [
    "from pvsystemprofiler.utilities.declination_equation import delta_spencer"
   ]
  },
  {
   "cell_type": "code",
   "execution_count": 6,
   "id": "997f4b98",
   "metadata": {},
   "outputs": [],
   "source": [
    "doy = dh.day_index.dayofyear\n",
    "daily_meas = dh.filled_data_matrix.shape[0]\n",
    "delta = delta_spencer(doy, daily_meas)"
   ]
  },
  {
   "cell_type": "markdown",
   "id": "0683f454",
   "metadata": {},
   "source": [
    "### Estimate hours daylight"
   ]
  },
  {
   "cell_type": "code",
   "execution_count": 7,
   "id": "94df0df0",
   "metadata": {},
   "outputs": [],
   "source": [
    "from solardatatools.algorithms import SunriseSunset"
   ]
  },
  {
   "cell_type": "code",
   "execution_count": 8,
   "id": "0b8b9e4e",
   "metadata": {},
   "outputs": [],
   "source": [
    "ss = SunriseSunset()\n",
    "ss.run_optimizer(data=dh.filled_data_matrix)"
   ]
  },
  {
   "cell_type": "code",
   "execution_count": 9,
   "id": "703899d3",
   "metadata": {},
   "outputs": [],
   "source": [
    "sunrise = ss.sunrise_measurements\n",
    "sunset = ss.sunset_measurements\n",
    "sunrise[np.isnan(sunrise)] = 0\n",
    "sunset[np.isnan(sunset)] = 0"
   ]
  },
  {
   "cell_type": "code",
   "execution_count": 10,
   "id": "32ace1dc",
   "metadata": {},
   "outputs": [],
   "source": [
    "hours_daylight = sunset - sunrise"
   ]
  },
  {
   "cell_type": "markdown",
   "id": "fa335957",
   "metadata": {},
   "source": [
    "#### Export Inputs for Estimate Latitude"
   ]
  },
  {
   "cell_type": "code",
   "execution_count": 11,
   "id": "5196d02e",
   "metadata": {},
   "outputs": [],
   "source": [
    "# Hours daylight\n",
    "np.savetxt('./tests/fixtures/latitude/hours_daylight.csv', hours_daylight,  delimiter=\",\")\n",
    "# Delta\n",
    "np.savetxt('./tests/fixtures/latitude/delta.csv', delta,  delimiter=\",\")"
   ]
  },
  {
   "cell_type": "markdown",
   "id": "7f93cb59",
   "metadata": {},
   "source": [
    "### Estimate latitude"
   ]
  },
  {
   "cell_type": "code",
   "execution_count": 12,
   "id": "e8c75a13",
   "metadata": {},
   "outputs": [],
   "source": [
    "from pvsystemprofiler.algorithms.latitude.estimation import estimate_latitude"
   ]
  },
  {
   "cell_type": "code",
   "execution_count": 13,
   "id": "d1619e40",
   "metadata": {},
   "outputs": [
    {
     "data": {
      "text/plain": [
       "38.58601372121755"
      ]
     },
     "execution_count": 13,
     "metadata": {},
     "output_type": "execute_result"
    }
   ],
   "source": [
    "estimate_latitude(hours_daylight, delta)"
   ]
  }
 ],
 "metadata": {
  "kernelspec": {
   "display_name": "Python 3",
   "language": "python",
   "name": "python3"
  },
  "language_info": {
   "codemirror_mode": {
    "name": "ipython",
    "version": 3
   },
   "file_extension": ".py",
   "mimetype": "text/x-python",
   "name": "python",
   "nbconvert_exporter": "python",
   "pygments_lexer": "ipython3",
   "version": "3.7.6"
  }
 },
 "nbformat": 4,
 "nbformat_minor": 5
}
